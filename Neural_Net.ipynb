{
  "nbformat": 4,
  "nbformat_minor": 0,
  "metadata": {
    "colab": {
      "name": "Neural Net.ipynb",
      "provenance": [],
      "collapsed_sections": []
    },
    "kernelspec": {
      "display_name": "Python 3",
      "name": "python3"
    },
    "language_info": {
      "name": "python"
    }
  },
  "cells": [
    {
      "cell_type": "code",
      "metadata": {
        "id": "8YuGc6fscw2I"
      },
      "source": [
        "import numpy as np\n",
        "from copy import deepcopy"
      ],
      "execution_count": null,
      "outputs": []
    },
    {
      "cell_type": "code",
      "metadata": {
        "id": "LFq6nBP_ZsWx"
      },
      "source": [
        "class MyNeuralNetwork():\n",
        "    \"\"\"\n",
        "    My implementation of a Neural Network Classifier.\n",
        "    \"\"\"\n",
        "\n",
        "    acti_fns = ['relu', 'sigmoid', 'linear', 'tanh', 'softmax']\n",
        "    weight_inits = ['zero', 'random', 'normal']\n",
        "\n",
        "    def __init__(self, n_layers, layer_sizes, activation, learning_rate, weight_init, batch_size, num_epochs):\n",
        "        \"\"\"\n",
        "        Initializing a new MyNeuralNetwork object\n",
        "\n",
        "        Parameters\n",
        "        ----------\n",
        "        n_layers : int value specifying the number of layers\n",
        "\n",
        "        layer_sizes : integer array of size n_layers specifying the number of nodes in each layer\n",
        "\n",
        "        activation : string specifying the activation function to be used\n",
        "                     possible inputs: relu, sigmoid, linear, tanh\n",
        "\n",
        "        learning_rate : float value specifying the learning rate to be used\n",
        "\n",
        "        weight_init : string specifying the weight initialization function to be used\n",
        "                      possible inputs: zero, random, normal\n",
        "\n",
        "        batch_size : int value specifying the batch size to be used\n",
        "\n",
        "        num_epochs : int value specifying the number of epochs to be used\n",
        "        \"\"\"\n",
        "        self.n_layers = n_layers\n",
        "        self.layer_sizes = layer_sizes\n",
        "        self.activation = activation\n",
        "        self.learning_rate = learning_rate\n",
        "        self.weight_init = weight_init\n",
        "        self.batch_size = batch_size\n",
        "        self.num_epochs = num_epochs \n",
        "        self.activation_initialization()\n",
        "        if activation not in self.acti_fns:\n",
        "            raise Exception('Incorrect Activation Function')\n",
        "\n",
        "        if weight_init not in self.weight_inits:\n",
        "            raise Exception('Incorrect Weight Initialization Function')\n",
        "        pass\n",
        "    \n",
        "    def relu(self, X):    # Done\n",
        "        \"\"\"\n",
        "        Parameters\n",
        "        X : 1-dimentional numpy array \n",
        "        Returns\n",
        "        x_calc : 1-dimensional numpy array after calculating the necessary function over X\n",
        "        \"\"\"\n",
        "        x_calc = np.maximum(0,X)\n",
        "        return x_calc\n",
        "\n",
        "    def relu_grad(self, X):    # Done\n",
        "        \"\"\"\n",
        "        Parameters\n",
        "        X : 1-dimentional numpy array \n",
        "        Returns\n",
        "        x_calc : 1-dimensional numpy array after calculating the necessary function over X\n",
        "        \"\"\"\n",
        "        X[X<=0] = 0\n",
        "        X[X>0] = 1\n",
        "        x_calc = X\n",
        "        return x_calc\n",
        "\n",
        "    def sigmoid(self, X):    # Done\n",
        "        \"\"\"\n",
        "        Parameters\n",
        "        X : 1-dimentional numpy array \n",
        "        Returns        \n",
        "        x_calc : 1-dimensional numpy array after calculating the necessary function over X\n",
        "        \"\"\"\n",
        "        x_calc = 1 / (1 + np.exp(-X))\n",
        "        return x_calc\n",
        "\n",
        "    def sigmoid_grad(self, X):    # Done\n",
        "        \"\"\"\n",
        "        Parameters\n",
        "        X : 1-dimentional numpy array \n",
        "        Returns        \n",
        "        x_calc : 1-dimensional numpy array after calculating the necessary function over X\n",
        "        \"\"\"\n",
        "        sigm = 1 / (1 + np.exp(-X))\n",
        "        x_calc = sigm * (1 - sigm)\n",
        "        return x_calc\n",
        "\n",
        "    def linear(self, X):    # Done\n",
        "        \"\"\"\n",
        "        Parameters        \n",
        "        X : 1-dimentional numpy array \n",
        "        Returns        \n",
        "        x_calc : 1-dimensional numpy array after calculating the necessary function over X\n",
        "        \"\"\"\n",
        "        x_calc = 0.1*X        \n",
        "        return x_calc\n",
        "\n",
        "    def linear_grad(self, X):    # Done\n",
        "        \"\"\"        \n",
        "        Parameters        \n",
        "        X : 1-dimentional numpy array \n",
        "        Returns        \n",
        "        x_calc : 1-dimensional numpy array after calculating the necessary function over X\n",
        "        \"\"\"\n",
        "        x_calc = np.ones(X.shape)        \n",
        "        return x_calc\n",
        "\n",
        "    def tanh(self, X):    # Done\n",
        "        \"\"\"        \n",
        "        X : 1-dimentional numpy array \n",
        "        Returns        \n",
        "        x_calc : 1-dimensional numpy array after calculating the necessary function over X\n",
        "        \"\"\"\n",
        "        x_calc = np.tanh(X)\n",
        "        return x_calc\n",
        "\n",
        "    def tanh_grad(self, X):    # Done\n",
        "        \"\"\"\n",
        "        Parameters        \n",
        "        X : 1-dimentional numpy array \n",
        "        Returns        \n",
        "        x_calc : 1-dimensional numpy array after calculating the necessary function over X\n",
        "        \"\"\"\n",
        "        x_calc = 1 - (np.tanh(X)**2)\n",
        "        return x_calc\n",
        "\n",
        "    def softmax(self, X):    # Done\n",
        "        \"\"\"\n",
        "        Parameters\n",
        "        X : 1-dimentional numpy array \n",
        "        Returns\n",
        "        x_calc : 1-dimensional numpy array after calculating the necessary function over X\n",
        "        \"\"\"\n",
        "        exps = np.exp(X - np.amax(X,axis=0))\n",
        "        x_calc = exps / np.sum(exps, axis=0)        \n",
        "        return x_calc\n",
        "\n",
        "    def softmax_grad(self, X):\n",
        "        \"\"\"      \n",
        "        Parameters\n",
        "        X : 1-dimentional numpy array \n",
        "        Returns\n",
        "        x_calc : 1-dimensional numpy array after calculating the necessary function over X\n",
        "        \"\"\"\n",
        "        x_calc = self.softmax(X) * (1 - self.softmax(X))\n",
        "        return x_calc\n",
        "\n",
        "    def activation_initialization(self):\n",
        "        if self.activation == \"relu\":\n",
        "          self.activation_func = self.relu\n",
        "          self.activation_func_grad = self.relu_grad\n",
        "        elif self.activation == \"sigmoid\":\n",
        "          self.activation_func = self.sigmoid\n",
        "          self.activation_func_grad = self.sigmoid_grad\n",
        "        elif self.activation == \"tanh\":\n",
        "          self.activation_func = self.tanh\n",
        "          self.activation_func_grad = self.tanh_grad\n",
        "        elif self.activation == \"linear\":\n",
        "          self.activation_func = self.linear\n",
        "          self.activation_func_grad = self.linear_grad\n",
        "        \n",
        "    def zero_init(self, shape):    # Done\n",
        "        \"\"\"        \n",
        "        Parameters        \n",
        "        shape : tuple specifying the shape of the layer for which weights have to be generated \n",
        "        Returns       \n",
        "        weight : 2-dimensional numpy array which contains the initial weights for the requested layer\n",
        "        \"\"\"\n",
        "        weight = np.zeros(shape)\n",
        "        return weight\n",
        "\n",
        "    def random_init(self, shape):    # Done\n",
        "        \"\"\"\n",
        "        Parameters        \n",
        "        shape : tuple specifying the shape of the layer for which weights have to be generated \n",
        "        Returns        \n",
        "        weight : 2-dimensional numpy array which contains the initial weights for the requested layer\n",
        "        \"\"\"\n",
        "        weight = np.random.rand(*shape)*0.01\n",
        "        return weight\n",
        "\n",
        "    def normal_init(self, shape):    # Done\n",
        "        \"\"\"        \n",
        "        Parameters       \n",
        "        shape : tuple specifying the shape of the layer for which weights have to be generated \n",
        "        Returns       \n",
        "        weight : 2-dimensional numpy array which contains the initial weights for the requested layer\n",
        "        \"\"\"\n",
        "        weight = np.random.randn(*shape)*0.01\n",
        "        return weight\n",
        "\n",
        "    def weight_initialization(self):\n",
        "        self.weights=[]\n",
        "        self.biases=[]\n",
        "        if self.weight_init=='zero':\n",
        "          for i in range(self.n_layers-1):\n",
        "            self.weights.append(self.zero_init((self.layer_sizes[i],self.layer_sizes[i+1])))     # 784 x 256, 256 x 128, 128 x 64, 64 x10\n",
        "            self.biases.append(np.zeros((self.layer_sizes[i+1],1)))      # 256 x 1 ....\n",
        "        if self.weight_init=='random':\n",
        "          for i in range(self.n_layers-1):\n",
        "            self.weights.append(self.random_init((self.layer_sizes[i],self.layer_sizes[i+1])))     # 784 x 256, 256 x 128, 128 x 64, 64 x10\n",
        "            self.biases.append(np.zeros((self.layer_sizes[i+1],1)))      # 256 x 1 ....\n",
        "        if self.weight_init=='normal':\n",
        "          for i in range(self.n_layers-1):\n",
        "            self.weights.append(self.normal_init((self.layer_sizes[i],self.layer_sizes[i+1])))     # 784 x 256, 256 x 128, 128 x 64, 64 x10\n",
        "            self.biases.append(np.zeros((self.layer_sizes[i+1],1)))      # 256 x 1 ....\n",
        "\n",
        "    def load_weights_biases(self,weights,biases):\n",
        "      self.weights = weights\n",
        "      self.biases = biases\n",
        "  \n",
        "    def forward_prop(self, X):\n",
        "        \"\"\"\n",
        "        Parameters      \n",
        "        X : 1-dimentional numpy array (784x1)\n",
        "        Returns        \n",
        "        z_list, a_list\n",
        "        \"\"\"\n",
        "        z_list=[]\n",
        "        a_list=[]\n",
        "        self.tsne_list=[]\n",
        "        a_list.append(X)                                       \n",
        "        for i in range(0, self.n_layers-1):   #0,1,2,3\n",
        "          # print(i, self.weights[i].shape, a_list[i].shape, self.biases[i].shape)\n",
        "          z = np.dot(self.weights[i].T,a_list[i]) + self.biases[i]    #256x784 X 784x100 = 256x100 , 128x256 X 256x100\n",
        "          z_list.append(z)\n",
        "          # print(i,z)          \n",
        "          if (i==self.n_layers-2):            \n",
        "            a_list.append(self.softmax(z))            \n",
        "          elif (i==self.n_layers-3):\n",
        "            a_list.append(self.activation_func(z))          \n",
        "            self.tsne_list.append(self.activation_func(z))\n",
        "          else:\n",
        "            a_list.append(self.activation_func(z))          \n",
        "        return z_list, a_list\n",
        "\n",
        "    def entropy_loss(self, y, y_prob):            \n",
        "      y_prob = y_prob.T\n",
        "      for i in range(len(self.classes)):\n",
        "        y[y == self.classes[i]] = i\n",
        "      loss = 0\n",
        "      for i in range(y_prob.shape[0]):\n",
        "        loss -= np.sum(np.log(y_prob[i, y == i]))\n",
        "      return loss/y_prob.shape[1]            \n",
        "\n",
        "    def backward_prop(self,z_list,a_list,y):   \n",
        "      # print(\"----------BACKPROP-----------\")   \n",
        "      # error = 2 * self.entropy_loss(y,a_list[-1])\n",
        "      error = a_list[-1]      \n",
        "      for i in range(error.shape[0]):\n",
        "        error[i,y==i] -= 1     \n",
        "      weight_changes= [0]*(self.n_layers-1)\n",
        "      bias_changes=[0]*(self.n_layers-1)\n",
        "      for i in range(self.n_layers-2, -1, -1):                   \n",
        "        weight_changes[i] = np.dot(error, a_list[i].T).T \n",
        "        bias_changes[i] = error.mean(axis=1).reshape((-1,1))       \n",
        "        if i!=0:                    \n",
        "          error = np.multiply(np.dot(self.weights[i], error), self.activation_func_grad(z_list[i-1]))              \n",
        "      for i in range(len(self.weights)):\n",
        "        self.weights[i] -= (self.learning_rate * weight_changes[i])\n",
        "        self.biases[i] -= (self.learning_rate * bias_changes[i])\n",
        "    \n",
        "    def one_hot(self, y):\n",
        "      onehot_y = np.zeros((y.size,y.max()+1))\n",
        "      onehot_y[np.arange(y.size),y] = 1      \n",
        "      return onehot_y\n",
        "  \n",
        "    def fit(self, X, y):\n",
        "        \"\"\"\n",
        "        Parameters        \n",
        "        X : 2-dimensional numpy array of shape (n_samples, n_features) which acts as training data.\n",
        "        y : 1-dimensional numpy array of shape (n_samples,) which acts as training labels.      \n",
        "        Returns        \n",
        "        self : an instance of self\n",
        "        \"\"\"                \n",
        "        self.classes, y = np.unique(y, return_inverse=True)                       \n",
        "        # self.activation_initialization()\n",
        "        self.weight_initialization()\n",
        "        self.save_weights_per_epoch=[]\n",
        "        self.save_biases_per_epoch=[]\n",
        "        self.training_loss_per_epoch=[]\n",
        "        for i in range(self.num_epochs):\n",
        "          for j in range(0,len(y),self.batch_size):          \n",
        "            X_batch = X[j:j+self.batch_size,:].T            \n",
        "            z_list, a_list = self.forward_prop(X_batch)\n",
        "            self.backward_prop(z_list, a_list, y[j:j+self.batch_size])\n",
        "          loss = self.entropy_loss(y,self.predict_proba(X))\n",
        "          print(\"Epoch:\",i+1,\"| Loss:\",loss)          \n",
        "          self.training_loss_per_epoch.append(loss)\n",
        "          self.save_weights_per_epoch.append(deepcopy(self.weights))\n",
        "          self.save_biases_per_epoch.append(deepcopy(self.biases))\n",
        "        # fit function has to return an instance of itself or else it won't work with test.py\n",
        "        return self\n",
        "\n",
        "    def predict_proba(self, X):\n",
        "        \"\"\"\n",
        "        Parameters        \n",
        "        X : 2-dimensional numpy array of shape (n_samples, n_features) which acts as testing data.\n",
        "        Returns      \n",
        "        y : 2-dimensional numpy array of shape (n_samples, n_classes) which contains the \n",
        "            class wise prediction probabilities.\n",
        "        \"\"\"      \n",
        "        z_list,a_list = self.forward_prop(X.T)\n",
        "        y = a_list[-1].T\n",
        "        # return the numpy array y which contains the predicted values\n",
        "        return y\n",
        "\n",
        "    def predict(self, X):\n",
        "        \"\"\"      \n",
        "        Parameters        \n",
        "        X : 2-dimensional numpy array of shape (n_samples, n_features) which acts as testing data.\n",
        "        Returns        \n",
        "        y : 1-dimensional numpy array of shape (n_samples,) which contains the predicted values.\n",
        "        \"\"\"\n",
        "        y_prob = self.predict_proba(X)\n",
        "        y_ind = y_prob.argmax(axis=1)\n",
        "        y = self.classes[y_ind]\n",
        "        # return the numpy array y which contains the predicted values\n",
        "        return y\n",
        "    \n",
        "    def score(self, X, y):\n",
        "        \"\"\"\n",
        "        Predicting values using the trained linear model.\n",
        "        Parameters        \n",
        "        X : 2-dimensional numpy array of shape (n_samples, n_features) which acts as testing data.\n",
        "        y : 1-dimensional numpy array of shape (n_samples,) which acts as testing labels.\n",
        "        Returns        \n",
        "        acc : float value specifying the accuracy of the model on the provided testing set\n",
        "        \"\"\"  \n",
        "        self.classes, y = np.unique(y, return_inverse=True)\n",
        "        y_pred = self.predict(X)            \n",
        "        acc = np.mean(y==y_pred)  \n",
        "        return acc\n",
        "\n",
        "  "
      ],
      "execution_count": null,
      "outputs": []
    },
    {
      "cell_type": "code",
      "metadata": {
        "id": "bMrb7B3BPfCT"
      },
      "source": [
        "from keras.datasets import mnist\n",
        "(X_train, y_train), (X_test, y_test) = mnist.load_data()\n",
        "X_train = X_train /255\n",
        "X_test = X_test /255"
      ],
      "execution_count": null,
      "outputs": []
    },
    {
      "cell_type": "code",
      "metadata": {
        "colab": {
          "base_uri": "https://localhost:8080/"
        },
        "id": "ygfozA8sUG42",
        "outputId": "4058717d-3e63-4cc3-c035-d22a3499f83f"
      },
      "source": [
        "X_train = X_train.reshape(X_train.shape[0],784)\n",
        "X_test = X_test.reshape(X_test.shape[0],784)\n",
        "print('X_train: ' + str(X_train.shape))\n",
        "print('Y_train: ' + str(y_train.shape))\n",
        "print('X_test:  '  + str(X_test.shape))\n",
        "print('Y_test:  '  + str(y_test.shape))"
      ],
      "execution_count": null,
      "outputs": [
        {
          "output_type": "stream",
          "text": [
            "X_train: (60000, 784)\n",
            "Y_train: (60000,)\n",
            "X_test:  (10000, 784)\n",
            "Y_test:  (10000,)\n"
          ],
          "name": "stdout"
        }
      ]
    },
    {
      "cell_type": "code",
      "metadata": {
        "colab": {
          "base_uri": "https://localhost:8080/",
          "height": 358
        },
        "id": "yGYjgq4MVuuK",
        "outputId": "0e027e04-1515-4da7-d7dd-3b718fae3e51"
      },
      "source": [
        "nn = MyNeuralNetwork(5,[784,256,128,64,10],'relu',0.01,'normal',64,100)\n",
        "nn.fit(X_train,y_train)"
      ],
      "execution_count": null,
      "outputs": [
        {
          "output_type": "stream",
          "text": [
            "Epoch: 1 | Loss: 0.31572486495647356\n",
            "Epoch: 2 | Loss: 0.17384950558433435\n"
          ],
          "name": "stdout"
        },
        {
          "output_type": "error",
          "ename": "KeyboardInterrupt",
          "evalue": "ignored",
          "traceback": [
            "\u001b[0;31m---------------------------------------------------------------------------\u001b[0m",
            "\u001b[0;31mKeyboardInterrupt\u001b[0m                         Traceback (most recent call last)",
            "\u001b[0;32m<ipython-input-8-d04afe240166>\u001b[0m in \u001b[0;36m<module>\u001b[0;34m()\u001b[0m\n\u001b[1;32m      1\u001b[0m \u001b[0mnn\u001b[0m \u001b[0;34m=\u001b[0m \u001b[0mMyNeuralNetwork\u001b[0m\u001b[0;34m(\u001b[0m\u001b[0;36m5\u001b[0m\u001b[0;34m,\u001b[0m\u001b[0;34m[\u001b[0m\u001b[0;36m784\u001b[0m\u001b[0;34m,\u001b[0m\u001b[0;36m256\u001b[0m\u001b[0;34m,\u001b[0m\u001b[0;36m128\u001b[0m\u001b[0;34m,\u001b[0m\u001b[0;36m64\u001b[0m\u001b[0;34m,\u001b[0m\u001b[0;36m10\u001b[0m\u001b[0;34m]\u001b[0m\u001b[0;34m,\u001b[0m\u001b[0;34m'relu'\u001b[0m\u001b[0;34m,\u001b[0m\u001b[0;36m0.01\u001b[0m\u001b[0;34m,\u001b[0m\u001b[0;34m'normal'\u001b[0m\u001b[0;34m,\u001b[0m\u001b[0;36m64\u001b[0m\u001b[0;34m,\u001b[0m\u001b[0;36m100\u001b[0m\u001b[0;34m)\u001b[0m\u001b[0;34m\u001b[0m\u001b[0;34m\u001b[0m\u001b[0m\n\u001b[0;32m----> 2\u001b[0;31m \u001b[0mnn\u001b[0m\u001b[0;34m.\u001b[0m\u001b[0mfit\u001b[0m\u001b[0;34m(\u001b[0m\u001b[0mX_train\u001b[0m\u001b[0;34m,\u001b[0m\u001b[0my_train\u001b[0m\u001b[0;34m)\u001b[0m\u001b[0;34m\u001b[0m\u001b[0;34m\u001b[0m\u001b[0m\n\u001b[0m",
            "\u001b[0;32m<ipython-input-7-366478b3e81a>\u001b[0m in \u001b[0;36mfit\u001b[0;34m(self, X, y)\u001b[0m\n\u001b[1;32m    281\u001b[0m             \u001b[0mX_batch\u001b[0m \u001b[0;34m=\u001b[0m \u001b[0mX\u001b[0m\u001b[0;34m[\u001b[0m\u001b[0mj\u001b[0m\u001b[0;34m:\u001b[0m\u001b[0mj\u001b[0m\u001b[0;34m+\u001b[0m\u001b[0mself\u001b[0m\u001b[0;34m.\u001b[0m\u001b[0mbatch_size\u001b[0m\u001b[0;34m,\u001b[0m\u001b[0;34m:\u001b[0m\u001b[0;34m]\u001b[0m\u001b[0;34m.\u001b[0m\u001b[0mT\u001b[0m\u001b[0;34m\u001b[0m\u001b[0;34m\u001b[0m\u001b[0m\n\u001b[1;32m    282\u001b[0m             \u001b[0mz_list\u001b[0m\u001b[0;34m,\u001b[0m \u001b[0ma_list\u001b[0m \u001b[0;34m=\u001b[0m \u001b[0mself\u001b[0m\u001b[0;34m.\u001b[0m\u001b[0mforward_prop\u001b[0m\u001b[0;34m(\u001b[0m\u001b[0mX_batch\u001b[0m\u001b[0;34m)\u001b[0m\u001b[0;34m\u001b[0m\u001b[0;34m\u001b[0m\u001b[0m\n\u001b[0;32m--> 283\u001b[0;31m             \u001b[0mself\u001b[0m\u001b[0;34m.\u001b[0m\u001b[0mbackward_prop\u001b[0m\u001b[0;34m(\u001b[0m\u001b[0mz_list\u001b[0m\u001b[0;34m,\u001b[0m \u001b[0ma_list\u001b[0m\u001b[0;34m,\u001b[0m \u001b[0my\u001b[0m\u001b[0;34m[\u001b[0m\u001b[0mj\u001b[0m\u001b[0;34m:\u001b[0m\u001b[0mj\u001b[0m\u001b[0;34m+\u001b[0m\u001b[0mself\u001b[0m\u001b[0;34m.\u001b[0m\u001b[0mbatch_size\u001b[0m\u001b[0;34m]\u001b[0m\u001b[0;34m)\u001b[0m\u001b[0;34m\u001b[0m\u001b[0;34m\u001b[0m\u001b[0m\n\u001b[0m\u001b[1;32m    284\u001b[0m           \u001b[0mloss\u001b[0m \u001b[0;34m=\u001b[0m \u001b[0mself\u001b[0m\u001b[0;34m.\u001b[0m\u001b[0mentropy_loss\u001b[0m\u001b[0;34m(\u001b[0m\u001b[0my\u001b[0m\u001b[0;34m,\u001b[0m\u001b[0mself\u001b[0m\u001b[0;34m.\u001b[0m\u001b[0mpredict_proba\u001b[0m\u001b[0;34m(\u001b[0m\u001b[0mX\u001b[0m\u001b[0;34m)\u001b[0m\u001b[0;34m)\u001b[0m\u001b[0;34m\u001b[0m\u001b[0;34m\u001b[0m\u001b[0m\n\u001b[1;32m    285\u001b[0m           \u001b[0mprint\u001b[0m\u001b[0;34m(\u001b[0m\u001b[0;34m\"Epoch:\"\u001b[0m\u001b[0;34m,\u001b[0m\u001b[0mi\u001b[0m\u001b[0;34m+\u001b[0m\u001b[0;36m1\u001b[0m\u001b[0;34m,\u001b[0m\u001b[0;34m\"| Loss:\"\u001b[0m\u001b[0;34m,\u001b[0m\u001b[0mloss\u001b[0m\u001b[0;34m)\u001b[0m\u001b[0;34m\u001b[0m\u001b[0;34m\u001b[0m\u001b[0m\n",
            "\u001b[0;32m<ipython-input-7-366478b3e81a>\u001b[0m in \u001b[0;36mbackward_prop\u001b[0;34m(self, z_list, a_list, y)\u001b[0m\n\u001b[1;32m    255\u001b[0m           \u001b[0merror\u001b[0m \u001b[0;34m=\u001b[0m \u001b[0mnp\u001b[0m\u001b[0;34m.\u001b[0m\u001b[0mmultiply\u001b[0m\u001b[0;34m(\u001b[0m\u001b[0mnp\u001b[0m\u001b[0;34m.\u001b[0m\u001b[0mdot\u001b[0m\u001b[0;34m(\u001b[0m\u001b[0mself\u001b[0m\u001b[0;34m.\u001b[0m\u001b[0mweights\u001b[0m\u001b[0;34m[\u001b[0m\u001b[0mi\u001b[0m\u001b[0;34m]\u001b[0m\u001b[0;34m,\u001b[0m \u001b[0merror\u001b[0m\u001b[0;34m)\u001b[0m\u001b[0;34m,\u001b[0m \u001b[0mself\u001b[0m\u001b[0;34m.\u001b[0m\u001b[0mactivation_func_grad\u001b[0m\u001b[0;34m(\u001b[0m\u001b[0mz_list\u001b[0m\u001b[0;34m[\u001b[0m\u001b[0mi\u001b[0m\u001b[0;34m-\u001b[0m\u001b[0;36m1\u001b[0m\u001b[0;34m]\u001b[0m\u001b[0;34m)\u001b[0m\u001b[0;34m)\u001b[0m\u001b[0;34m\u001b[0m\u001b[0;34m\u001b[0m\u001b[0m\n\u001b[1;32m    256\u001b[0m       \u001b[0;32mfor\u001b[0m \u001b[0mi\u001b[0m \u001b[0;32min\u001b[0m \u001b[0mrange\u001b[0m\u001b[0;34m(\u001b[0m\u001b[0mlen\u001b[0m\u001b[0;34m(\u001b[0m\u001b[0mself\u001b[0m\u001b[0;34m.\u001b[0m\u001b[0mweights\u001b[0m\u001b[0;34m)\u001b[0m\u001b[0;34m)\u001b[0m\u001b[0;34m:\u001b[0m\u001b[0;34m\u001b[0m\u001b[0;34m\u001b[0m\u001b[0m\n\u001b[0;32m--> 257\u001b[0;31m         \u001b[0mself\u001b[0m\u001b[0;34m.\u001b[0m\u001b[0mweights\u001b[0m\u001b[0;34m[\u001b[0m\u001b[0mi\u001b[0m\u001b[0;34m]\u001b[0m \u001b[0;34m-=\u001b[0m \u001b[0;34m(\u001b[0m\u001b[0mself\u001b[0m\u001b[0;34m.\u001b[0m\u001b[0mlearning_rate\u001b[0m \u001b[0;34m*\u001b[0m \u001b[0mweight_changes\u001b[0m\u001b[0;34m[\u001b[0m\u001b[0mi\u001b[0m\u001b[0;34m]\u001b[0m\u001b[0;34m)\u001b[0m\u001b[0;34m\u001b[0m\u001b[0;34m\u001b[0m\u001b[0m\n\u001b[0m\u001b[1;32m    258\u001b[0m         \u001b[0mself\u001b[0m\u001b[0;34m.\u001b[0m\u001b[0mbiases\u001b[0m\u001b[0;34m[\u001b[0m\u001b[0mi\u001b[0m\u001b[0;34m]\u001b[0m \u001b[0;34m-=\u001b[0m \u001b[0;34m(\u001b[0m\u001b[0mself\u001b[0m\u001b[0;34m.\u001b[0m\u001b[0mlearning_rate\u001b[0m \u001b[0;34m*\u001b[0m \u001b[0mbias_changes\u001b[0m\u001b[0;34m[\u001b[0m\u001b[0mi\u001b[0m\u001b[0;34m]\u001b[0m\u001b[0;34m)\u001b[0m\u001b[0;34m\u001b[0m\u001b[0;34m\u001b[0m\u001b[0m\n\u001b[1;32m    259\u001b[0m \u001b[0;34m\u001b[0m\u001b[0m\n",
            "\u001b[0;31mKeyboardInterrupt\u001b[0m: "
          ]
        }
      ]
    },
    {
      "cell_type": "code",
      "metadata": {
        "id": "QLbLf-gC4_tj"
      },
      "source": [
        "model_weights_per_epoch = nn.save_weights_per_epoch\n",
        "model_biases_per_epoch = nn.save_biases_per_epoch\n",
        "model_traning_loss_per_epoch = nn.training_loss_per_epoch"
      ],
      "execution_count": null,
      "outputs": []
    },
    {
      "cell_type": "code",
      "metadata": {
        "id": "36TDp1kwFUbi"
      },
      "source": [
        "model_validation_loss_per_epoch = []\n",
        "for i in range(len(model_weights_per_epoch)):  \n",
        "  nn.load_weights_biases(model_weights_per_epoch[i],model_biases_per_epoch[i])\n",
        "  loss = nn.entropy_loss(y_test, nn.predict_proba(X_test))\n",
        "  # score = nn.score(X_test,y_test)  \n",
        "  model_validation_loss_per_epoch.append(loss)"
      ],
      "execution_count": null,
      "outputs": []
    },
    {
      "cell_type": "code",
      "metadata": {
        "colab": {
          "base_uri": "https://localhost:8080/",
          "height": 295
        },
        "id": "1QVkBvYDM3Ll",
        "outputId": "b5a06a10-acd3-46f8-8854-853d66a6c303"
      },
      "source": [
        "import matplotlib.pyplot as plt\n",
        "plt.plot(model_traning_loss_per_epoch,label=\"Training Loss\")\n",
        "plt.plot(model_validation_loss_per_epoch,label=\"Validation Loss\")\n",
        "plt.xlabel(\"Number of Epochs\")\n",
        "plt.ylabel(\"Loss\")\n",
        "plt.title(\"Linear\")\n",
        "plt.legend()\n",
        "plt.show()"
      ],
      "execution_count": null,
      "outputs": [
        {
          "output_type": "display_data",
          "data": {
            "image/png": "[encoded data removed]",
            "text/plain": [
              "<Figure size 432x288 with 1 Axes>"
            ]
          },
          "metadata": {
            "tags": [],
            "needs_background": "light"
          }
        }
      ]
    },
    {
      "cell_type": "code",
      "metadata": {
        "colab": {
          "base_uri": "https://localhost:8080/"
        },
        "id": "RZsUci6odoZj",
        "outputId": "fe1b794a-c9c0-4d24-e982-ba6b11988e3c"
      },
      "source": [
        "from google.colab import drive\n",
        "drive.mount('/content/drive')\n"
      ],
      "execution_count": null,
      "outputs": [
        {
          "output_type": "stream",
          "text": [
            "Mounted at /content/drive\n"
          ],
          "name": "stdout"
        }
      ]
    },
    {
      "cell_type": "code",
      "metadata": {
        "colab": {
          "base_uri": "https://localhost:8080/"
        },
        "id": "48lWR80Ccv5E",
        "outputId": "f6c44013-b8d3-4426-ace7-8438aac4344b"
      },
      "source": [
        "saving_weights = np.array(model_weights_per_epoch)\n",
        "np.savez(\"linear_weights_per_epoch\",saving_weights)\n",
        "!cp linear_weights_per_epoch.npz \"drive/My Drive/ML_NeuralNet\""
      ],
      "execution_count": null,
      "outputs": [
        {
          "output_type": "stream",
          "text": [
            "/usr/local/lib/python3.7/dist-packages/ipykernel_launcher.py:1: VisibleDeprecationWarning: Creating an ndarray from ragged nested sequences (which is a list-or-tuple of lists-or-tuples-or ndarrays with different lengths or shapes) is deprecated. If you meant to do this, you must specify 'dtype=object' when creating the ndarray\n",
            "  \"\"\"Entry point for launching an IPython kernel.\n"
          ],
          "name": "stderr"
        }
      ]
    },
    {
      "cell_type": "code",
      "metadata": {
        "colab": {
          "base_uri": "https://localhost:8080/"
        },
        "id": "dQW3L1zch3GA",
        "outputId": "8bdbe9e5-b11a-412a-e89c-d5039a08508b"
      },
      "source": [
        "saving_biases = np.array(model_biases_per_epoch)\n",
        "np.savez(\"linear_biases_per_epoch\",saving_biases)\n",
        "!cp linear_biases_per_epoch.npz \"drive/My Drive/ML_NeuralNet\""
      ],
      "execution_count": null,
      "outputs": [
        {
          "output_type": "stream",
          "text": [
            "/usr/local/lib/python3.7/dist-packages/ipykernel_launcher.py:1: VisibleDeprecationWarning: Creating an ndarray from ragged nested sequences (which is a list-or-tuple of lists-or-tuples-or ndarrays with different lengths or shapes) is deprecated. If you meant to do this, you must specify 'dtype=object' when creating the ndarray\n",
            "  \"\"\"Entry point for launching an IPython kernel.\n"
          ],
          "name": "stderr"
        }
      ]
    },
    {
      "cell_type": "code",
      "metadata": {
        "colab": {
          "base_uri": "https://localhost:8080/"
        },
        "id": "x9NCN7v2TyFd",
        "outputId": "abee7731-d296-43f8-c3a7-9bf6beb222d1"
      },
      "source": [
        "y=nn.score(X_test,y_test)\n",
        "y"
      ],
      "execution_count": null,
      "outputs": [
        {
          "output_type": "execute_result",
          "data": {
            "text/plain": [
              "0.8598"
            ]
          },
          "metadata": {
            "tags": []
          },
          "execution_count": 41
        }
      ]
    },
    {
      "cell_type": "code",
      "metadata": {
        "id": "KHaHjORnGHah"
      },
      "source": [
        "w1 = np.load(\"drive/My Drive/ML_NeuralNet/relu_weights_per_epoch.npz\",allow_pickle=True)\n",
        "w2 = w1[\"arr_0\"]\n",
        "b1 = np.load(\"drive/My Drive/ML_NeuralNet/relu_biases_per_epoch.npz\", allow_pickle=True)\n",
        "b2 = b1[\"arr_0\"]\n",
        "nn_loaded = MyNeuralNetwork(5,[784,256,128,64,10],'relu',0.01,'normal',64,100)\n",
        "nn_loaded.load_weights_biases(w2[-1],b2[-1])\n"
      ],
      "execution_count": null,
      "outputs": []
    },
    {
      "cell_type": "code",
      "metadata": {
        "colab": {
          "base_uri": "https://localhost:8080/"
        },
        "id": "xeGakAwt43BH",
        "outputId": "c3b3e856-b4b5-48fd-d35c-950d95ffedef"
      },
      "source": [
        "y=nn_loaded.score(X_test,y_test)\n",
        "y"
      ],
      "execution_count": null,
      "outputs": [
        {
          "output_type": "execute_result",
          "data": {
            "text/plain": [
              "0.9828"
            ]
          },
          "metadata": {
            "tags": []
          },
          "execution_count": 18
        }
      ]
    },
    {
      "cell_type": "code",
      "metadata": {
        "id": "b5TYrU_AfMrH"
      },
      "source": [
        "from sklearn.neural_network import MLPClassifier\n",
        "clf = MLPClassifier(hidden_layer_sizes=[256,128,64],activation='relu', alpha=0, batch_size=64,learning_rate='constant',learning_rate_init=0.01,momentum=0,verbose=True,max_iter= 100)\n",
        "clf.fit(X_train,y_train)\n",
        "clf.score(X_test,y_test)"
      ],
      "execution_count": null,
      "outputs": []
    },
    {
      "cell_type": "code",
      "metadata": {
        "id": "Mgvs2iprj3LH"
      },
      "source": [
        "from sklearn.neural_network import MLPClassifier\n",
        "clf = MLPClassifier(hidden_layer_sizes=[256,128,64],activation='tanh', alpha=0, batch_size=64,learning_rate='constant',learning_rate_init=0.01,momentum=0,verbose=True,max_iter= 100)\n",
        "clf.fit(X_train,y_train)\n",
        "clf.score(X_test,y_test)"
      ],
      "execution_count": null,
      "outputs": []
    },
    {
      "cell_type": "code",
      "metadata": {
        "id": "Yd2ZDVhLj33-"
      },
      "source": [
        "from sklearn.neural_network import MLPClassifier\n",
        "clf = MLPClassifier(hidden_layer_sizes=[256,128,64],activation='logistic', alpha=0, batch_size=64,learning_rate='constant',learning_rate_init=0.01,momentum=0,verbose=True,max_iter= 100)\n",
        "clf.fit(X_train,y_train)\n",
        "clf.score(X_test,y_test)"
      ],
      "execution_count": null,
      "outputs": []
    },
    {
      "cell_type": "code",
      "metadata": {
        "id": "mzGwpU_4j4jO"
      },
      "source": [
        "from sklearn.neural_network import MLPClassifier\n",
        "clf = MLPClassifier(hidden_layer_sizes=[256,128,64],activation='identity', alpha=0, batch_size=64,learning_rate='constant',learning_rate_init=0.01,momentum=0,verbose=True,max_iter= 100)\n",
        "clf.fit(X_train,y_train)\n",
        "clf.score(X_test,y_test)"
      ],
      "execution_count": null,
      "outputs": []
    },
    {
      "cell_type": "code",
      "metadata": {
        "colab": {
          "base_uri": "https://localhost:8080/"
        },
        "id": "ZaaAddnbyILo",
        "outputId": "70e89816-0573-466f-af9d-d9c936a3f87c"
      },
      "source": [
        "z , a = nn_loaded.forward_prop(X_test.T)\n",
        "tsne_list = np.array(nn_loaded.tsne_list)\n",
        "print(tsne_list.shape)\n",
        "tsne_list = np.reshape(tsne_list, (64,10000)).T\n",
        "tsne_list.shape"
      ],
      "execution_count": null,
      "outputs": [
        {
          "output_type": "stream",
          "text": [
            "(1, 64, 10000)\n"
          ],
          "name": "stdout"
        },
        {
          "output_type": "execute_result",
          "data": {
            "text/plain": [
              "(10000, 64)"
            ]
          },
          "metadata": {
            "tags": []
          },
          "execution_count": 34
        }
      ]
    },
    {
      "cell_type": "code",
      "metadata": {
        "id": "9o-wld_qljH3"
      },
      "source": [
        "\n",
        "from sklearn.preprocessing import StandardScaler\n",
        "# scaler = StandardScaler()\n",
        "# X_test = scaler.fit_transform(X_test)\n",
        "import pandas as pd\n",
        "# tsne_list = tsne_list[:200]\n",
        "df = pd.DataFrame(tsne_list)\n",
        "# y_test = y_test[:200]\n",
        "df_2 = pd.DataFrame(y_test)"
      ],
      "execution_count": null,
      "outputs": []
    },
    {
      "cell_type": "code",
      "metadata": {
        "id": "ziv6CUValtKk"
      },
      "source": [
        "from sklearn.manifold import TSNE\n",
        "tsne = TSNE(n_components=2)\n",
        "\n",
        "X_2d = tsne.fit_transform(df)\n"
      ],
      "execution_count": null,
      "outputs": []
    },
    {
      "cell_type": "code",
      "metadata": {
        "id": "K5axts9jveqZ"
      },
      "source": [
        "tsne_df = pd.DataFrame(data=X_2d, columns=(\"Dimesion 1\", \"Dimension 2\"))\n",
        "tsne_df[\"label\"]= df_2"
      ],
      "execution_count": null,
      "outputs": []
    },
    {
      "cell_type": "code",
      "metadata": {
        "colab": {
          "base_uri": "https://localhost:8080/",
          "height": 475
        },
        "id": "U6t2CO9HnYec",
        "outputId": "687ad0a7-48a4-4af3-a5fa-ee0645f08f91"
      },
      "source": [
        "import seaborn as sn\n",
        "import matplotlib.pyplot as plt\n",
        "sn.FacetGrid(tsne_df, hue=\"label\", size=6).map(plt.scatter, \"Dimesion 1\", \"Dimension 2\").add_legend()\n",
        "plt.show()"
      ],
      "execution_count": null,
      "outputs": [
        {
          "output_type": "stream",
          "text": [
            "/usr/local/lib/python3.7/dist-packages/seaborn/axisgrid.py:316: UserWarning: The `size` parameter has been renamed to `height`; please update your code.\n",
            "  warnings.warn(msg, UserWarning)\n"
          ],
          "name": "stderr"
        },
        {
          "output_type": "display_data",
          "data": {
            "image/png": "[encoded data removed]",
            "text/plain": [
              "<Figure size 474.375x432 with 1 Axes>"
            ]
          },
          "metadata": {
            "tags": [],
            "needs_background": "light"
          }
        }
      ]
    }
  ]
}